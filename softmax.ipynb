{
 "cells": [
  {
   "cell_type": "code",
   "execution_count": 2,
   "metadata": {},
   "outputs": [],
   "source": [
    "import numpy as np\n",
    "from scipy import optimize\n",
    "from numpy import ones, zeros, column_stack, exp, dot, log, newaxis\n",
    "from scipy.special import expit, logit\n",
    "\n",
    "\n",
    "%matplotlib inline\n",
    "import matplotlib.pyplot as plt"
   ]
  },
  {
   "cell_type": "code",
   "execution_count": 2,
   "metadata": {},
   "outputs": [],
   "source": [
    "data = np.loadtxt('natasy/data/ex2data1.txt', delimiter=',')\n",
    "features = data[:,:2]\n",
    "y = data[:,2]"
   ]
  },
  {
   "cell_type": "code",
   "execution_count": 4,
   "metadata": {},
   "outputs": [
    {
     "data": {
      "image/png": "[encoded data removed]",
      "text/plain": [
       "<Figure size 432x288 with 1 Axes>"
      ]
     },
     "metadata": {},
     "output_type": "display_data"
    }
   ],
   "source": [
    "plt.scatter(features[y==0,0], features[y==0,1],color='y', marker='o', label='Not admitted')\n",
    "plt.scatter(features[y==1,0], features[y==1,1], color='k', marker='+', label='Admitted')\n",
    "\n",
    "plt.xlabel('Exam 1 score')\n",
    "plt.ylabel('Exam 2 score')\n",
    "plt.autoscale(tight=True)\n",
    "plt.legend(loc=3)\n",
    "plt.show()"
   ]
  },
  {
   "cell_type": "code",
   "execution_count": 11,
   "metadata": {},
   "outputs": [
    {
     "data": {
      "text/plain": [
       "array([ -0.1       , -12.00921659, -11.26284221])"
      ]
     },
     "execution_count": 11,
     "metadata": {},
     "output_type": "execute_result"
    }
   ],
   "source": [
    "m, n = features.shape\n",
    "features.shape\n",
    "\n",
    "X = column_stack((ones((m, 1)), features))\n",
    "initial_theta = zeros((n+1))\n",
    "\n",
    "\n",
    "\n",
    "# this is the hypothsis function h(X)\n",
    "def sigmoid(z): \n",
    "    return 1/(1+exp(-z))\n",
    "\n",
    "def costFunction(initial_theta, X, y):\n",
    "    # J = (-1/m) * sum(     y .* log(sigmoid(X*theta))     +     (1-y) .* log(1 - sigmoid(X*theta))     );\n",
    "    h_of_X = sigmoid(dot(X, initial_theta[:,newaxis]))\n",
    "    J = np.sum(-y[:, newaxis] * log(h_of_X) - \n",
    "                  (1-y[:, newaxis])*log(1-h_of_X))/X.shape[0]\n",
    "    return J\n",
    "\n",
    "def gradient(theta, X, y):\n",
    "    # grad = (1/m) *  ( (sigmoid(X*theta) - y)'  * X );\n",
    "    h_of_X = sigmoid(dot(X, theta[:,newaxis]))    \n",
    "    grad = dot(X.T,h_of_X-y[:, newaxis])/X.shape[0]\n",
    "    #print grad.flatten()\n",
    "\n",
    "    return grad.flatten()\n",
    "\n",
    "gradient(initial_theta, X, y)"
   ]
  },
  {
   "cell_type": "code",
   "execution_count": null,
   "metadata": {},
   "outputs": [],
   "source": []
  },
  {
   "cell_type": "code",
   "execution_count": 36,
   "metadata": {},
   "outputs": [
    {
     "name": "stdout",
     "output_type": "stream",
     "text": [
      "[[ -0.1       ]\n",
      " [-12.00921659]\n",
      " [-11.26284221]]\n"
     ]
    }
   ],
   "source": [
    "m, n = features.shape\n",
    "features.shape\n",
    "\n",
    "X = column_stack((ones((m, 1)), features))\n",
    "initial_theta = zeros((n+1))\n",
    "\n",
    "def sigmoid(Z):\n",
    "    # https://docs.scipy.org/doc/scipy/reference/generated /scipy.special.expit.html\n",
    "    # return 1 / (1 + np.exp(-Z))\n",
    "    return expit(np.clip(Z, -709, 36.73))\n",
    "\n",
    "def sigmoid_prime(A):\n",
    "    return A * (1 - A)\n",
    "\n",
    "def binary_cross_entropy_loss(y, a):\n",
    "    return -(y * np.log(a) + (1 - y) * np.log(1 - a))\n",
    "\n",
    "def binary_cross_entropy_loss_prime(y, a):\n",
    "    return -y / a + (1 - y) / (1 - a)\n",
    "\n",
    "\n",
    "def gradient(theta, X, y):\n",
    "    # grad = (1/m) *  ( (sigmoid(X*theta) - y)'  * X );\n",
    "    A = sigmoid(dot(X, theta[:,newaxis]))    \n",
    "    sig_prime = sigmoid_prime(A)\n",
    "    xe_prime = binary_cross_entropy_loss_prime(y[:, newaxis], A)\n",
    "    \n",
    "    # grad = dot(X.T,A-y[:, newaxis])/X.shape[0]\n",
    "    print(sig_prime.shape)\n",
    "    print(xe_prime.shape)\n",
    "    grad = dot(X.T, sig_prime * xe_prime)/m\n",
    "    return grad.flatten()\n",
    "\n",
    "#gradient(initial_theta, X, y)\n",
    "A = sigmoid(dot(X, initial_theta[:,newaxis]))\n",
    "dLdA = binary_cross_entropy_loss_prime(y[:,newaxis], A)\n",
    "dAdZ = sigmoid_prime(A)\n",
    "dLdZ = dLdA * dAdZ\n",
    "dZdW = X\n",
    "dLdW = dot(dZdW.T, dLdZ)/m\n",
    "print(dLdW)"
   ]
  },
  {
   "cell_type": "code",
   "execution_count": 51,
   "metadata": {},
   "outputs": [],
   "source": [
    "data = np.loadtxt('natasy/data/ex2data1.txt', delimiter=',')\n",
    "features = data[:, :2]\n",
    "y = data[:, 2:]\n",
    "\n",
    "\n",
    "\n",
    "def multinomial_cross_entropy_loss_prime(y, a):\n",
    "    return -np.sum(y/a)\n",
    "\n",
    "def softmax(Z):\n",
    "    Z_exp = np.exp(Z)\n",
    "    return Z_exp / np.sum(Z_exp, axis=0)\n",
    "\n",
    "def stable_softmax(Z):\n",
    "    shift_Z = Z - np.max(Z, axis=0)\n",
    "    Z_exp = np.exp(shift_Z)\n",
    "    return Z_exp / np.sum(Z_exp, axis=0)\n",
    "\n",
    "def softmax_prime(A):\n",
    "    b = np.zeros((A.shape[0], A.shape[0], A.shape[1]))\n",
    "    diag = np.arange(A.shape[0])\n",
    "    b[diag, diag, :] = A\n",
    "\n",
    "    SM = A.reshape((-1, 1))\n",
    "    jac = np.diag(A) - np.dot(SM, SM.T)\n",
    "    return jac\n",
    "\n",
    "def _weights_initialization(n_out, n_in):\n",
    "    W = np.random.randn(n_out, n_in) * 0.01\n",
    "    b = np.zeros((n_out, 1))\n",
    "    return W, b"
   ]
  },
  {
   "cell_type": "code",
   "execution_count": 69,
   "metadata": {},
   "outputs": [],
   "source": [
    "from sklearn.datasets import load_iris\n",
    "dataset = load_iris()\n",
    "\n",
    "X = dataset.data.T\n",
    "\n",
    "y = np.zeros((dataset.target_names.size, dataset.target.size))\n",
    "y[dataset.target, np.arange(dataset.target.size)] = 1  # (5000, 10)\n",
    "\n",
    "dir(dataset)\n",
    "W, b = _weights_initialization(4, 3)\n",
    "\n",
    "Z = np.dot(W.T, X)\n",
    "S = stable_softmax(Z)"
   ]
  },
  {
   "cell_type": "code",
   "execution_count": 73,
   "metadata": {},
   "outputs": [
    {
     "data": {
      "text/plain": [
       "-460.987108265649"
      ]
     },
     "execution_count": 73,
     "metadata": {},
     "output_type": "execute_result"
    }
   ],
   "source": [
    "def multinomial_cross_entropy_loss_prime(y, a):\n",
    "    return -np.sum(y/a) \n",
    "\n",
    "multinomial_cross_entropy_loss_prime(y, S)"
   ]
  },
  {
   "cell_type": "code",
   "execution_count": 130,
   "metadata": {},
   "outputs": [
    {
     "name": "stdout",
     "output_type": "stream",
     "text": [
      "(3, 150)\n"
     ]
    }
   ],
   "source": [
    "print(S.shape)\n",
    "s = S[:,0:1]"
   ]
  },
  {
   "cell_type": "code",
   "execution_count": 153,
   "metadata": {},
   "outputs": [
    {
     "name": "stdout",
     "output_type": "stream",
     "text": [
      "[[0.3387381 ]\n",
      " [0.35317122]\n",
      " [0.30809069]]\n",
      "\n",
      "\n",
      "[[ 0.6612619  -0.3387381  -0.3387381 ]\n",
      " [-0.35317122  0.64682878 -0.35317122]\n",
      " [-0.30809069 -0.30809069  0.69190931]]\n",
      "\n"
     ]
    },
    {
     "data": {
      "text/plain": [
       "array([[ 0.2239946 , -0.1147435 , -0.1147435 ],\n",
       "       [-0.12472991,  0.22844131, -0.12472991],\n",
       "       [-0.09491987, -0.09491987,  0.21317082]])"
      ]
     },
     "execution_count": 153,
     "metadata": {},
     "output_type": "execute_result"
    }
   ],
   "source": [
    "idn = np.eye(s.size)\n",
    "print(s)\n",
    "print()\n",
    "# print(np.diag(s.flatten()))\n",
    "print()\n",
    "print(idn-s)\n",
    "print()\n",
    "\n",
    "a1 = idn-s\n",
    "a2 = np.array([[0,1,2]])\n",
    "\n",
    "np.multiply(s, a1)"
   ]
  },
  {
   "cell_type": "code",
   "execution_count": 189,
   "metadata": {},
   "outputs": [
    {
     "name": "stdout",
     "output_type": "stream",
     "text": [
      "(3, 150)\n",
      "(3, 3, 150)\n",
      "(3, 3, 150)\n",
      "(3, 3, 150)\n"
     ]
    },
    {
     "data": {
      "text/plain": [
       "(3, 3, 150)"
      ]
     },
     "execution_count": 189,
     "metadata": {},
     "output_type": "execute_result"
    }
   ],
   "source": [
    "def softmax(z):\n",
    "    \"\"\"Computes softmax function.\n",
    "    z: array of input values.\n",
    "    Returns an array of outputs with the same shape as z.\"\"\"\n",
    "    # For numerical stability: make the maximum of z's to be 0.\n",
    "    shiftz = z - np.max(z)\n",
    "    exps = np.exp(shiftz)\n",
    "    return exps / np.sum(exps)\n",
    "\n",
    "def softmax_gradient(S):\n",
    "    \"\"\"Computes the gradient of the softmax function.\n",
    "    \n",
    "    z: (T, 1) array of input values where the gradient is computed. T is the\n",
    "       number of output classes.\n",
    "    Returns D (T, T) the Jacobian matrix of softmax(z) at the given z. D[i, j]\n",
    "    is DjSi - the partial derivative of Si w.r.t. input j.\n",
    "    \"\"\"\n",
    "    # -SjSi can be computed using an outer product between Sz and itself. Then\n",
    "    # we add back Si for the i=j cases by adding a diagonal matrix with the\n",
    "    # values of Si on its diagonal.\n",
    "    dAdZ_struct = np.zeros((S.shape[0], S.shape[0], S.shape[1]))\n",
    "    diag_indecies = np.arange(S.shape[0])\n",
    "    dAdZ_struct[diag_indecies, diag_indecies, :] = S\n",
    "\n",
    "    # D = -np.outer(S, S) + np.diag(S.flatten())\n",
    "    dAdZ = dAdZ_struct - S[:,None,:]*S\n",
    "    return dAdZ\n",
    "\n",
    "softmax_gradient(S).shape"
   ]
  },
  {
   "cell_type": "code",
   "execution_count": 111,
   "metadata": {},
   "outputs": [
    {
     "data": {
      "text/plain": [
       "(5, 3)"
      ]
     },
     "execution_count": 111,
     "metadata": {},
     "output_type": "execute_result"
    }
   ],
   "source": [
    "M = np.array([[ 0.25891593,  0.07299478,  0.36586996],\n",
    " [ 0.30851087,  0.37131459,  0.16274825],\n",
    " [ 0.71061831,  0.67718718,  0.09562581],\n",
    " [ 0.71588836,  0.76772047,  0.15476079],\n",
    " [ 0.92985142,  0.22263399,  0.88027331]])\n",
    "M.shape"
   ]
  },
  {
   "cell_type": "code",
   "execution_count": 128,
   "metadata": {},
   "outputs": [
    {
     "ename": "ValueError",
     "evalue": "shape mismatch: value array of shape (2,3) could not be broadcast to indexing result of shape (3,5)",
     "output_type": "error",
     "traceback": [
      "\u001b[0;31m---------------------------------------------------------------------------\u001b[0m",
      "\u001b[0;31mValueError\u001b[0m                                Traceback (most recent call last)",
      "\u001b[0;32m<ipython-input-128-3759189b588f>\u001b[0m in \u001b[0;36m<module>\u001b[0;34m()\u001b[0m\n\u001b[1;32m      1\u001b[0m \u001b[0mb\u001b[0m \u001b[0;34m=\u001b[0m \u001b[0mnp\u001b[0m\u001b[0;34m.\u001b[0m\u001b[0mzeros\u001b[0m\u001b[0;34m(\u001b[0m\u001b[0;34m(\u001b[0m\u001b[0mM\u001b[0m\u001b[0;34m.\u001b[0m\u001b[0mshape\u001b[0m\u001b[0;34m[\u001b[0m\u001b[0;36m0\u001b[0m\u001b[0;34m]\u001b[0m\u001b[0;34m,\u001b[0m \u001b[0mM\u001b[0m\u001b[0;34m.\u001b[0m\u001b[0mshape\u001b[0m\u001b[0;34m[\u001b[0m\u001b[0;36m1\u001b[0m\u001b[0;34m]\u001b[0m\u001b[0;34m,\u001b[0m \u001b[0mM\u001b[0m\u001b[0;34m.\u001b[0m\u001b[0mshape\u001b[0m\u001b[0;34m[\u001b[0m\u001b[0;36m1\u001b[0m\u001b[0;34m]\u001b[0m\u001b[0;34m)\u001b[0m\u001b[0;34m)\u001b[0m\u001b[0;34m\u001b[0m\u001b[0m\n\u001b[1;32m      2\u001b[0m \u001b[0mdiag\u001b[0m \u001b[0;34m=\u001b[0m \u001b[0mnp\u001b[0m\u001b[0;34m.\u001b[0m\u001b[0marange\u001b[0m\u001b[0;34m(\u001b[0m\u001b[0mM\u001b[0m\u001b[0;34m.\u001b[0m\u001b[0mshape\u001b[0m\u001b[0;34m[\u001b[0m\u001b[0;36m1\u001b[0m\u001b[0;34m]\u001b[0m\u001b[0;34m)\u001b[0m\u001b[0;34m\u001b[0m\u001b[0m\n\u001b[0;32m----> 3\u001b[0;31m \u001b[0mb\u001b[0m\u001b[0;34m[\u001b[0m\u001b[0;34m:\u001b[0m\u001b[0;34m,\u001b[0m \u001b[0mdiag\u001b[0m\u001b[0;34m,\u001b[0m \u001b[0mdiag\u001b[0m\u001b[0;34m]\u001b[0m \u001b[0;34m=\u001b[0m \u001b[0mnp\u001b[0m\u001b[0;34m.\u001b[0m\u001b[0marray\u001b[0m\u001b[0;34m(\u001b[0m\u001b[0;34m[\u001b[0m\u001b[0;34m[\u001b[0m\u001b[0;36m33\u001b[0m\u001b[0;34m,\u001b[0m \u001b[0;36m66\u001b[0m\u001b[0;34m,\u001b[0m \u001b[0;36m99\u001b[0m\u001b[0;34m]\u001b[0m\u001b[0;34m,\u001b[0m \u001b[0;34m[\u001b[0m\u001b[0;36m22\u001b[0m\u001b[0;34m,\u001b[0m \u001b[0;36m44\u001b[0m\u001b[0;34m,\u001b[0m \u001b[0;36m88\u001b[0m\u001b[0;34m]\u001b[0m\u001b[0;34m]\u001b[0m\u001b[0;34m)\u001b[0m\u001b[0;34m\u001b[0m\u001b[0m\n\u001b[0m\u001b[1;32m      4\u001b[0m \u001b[0mb\u001b[0m\u001b[0;34m\u001b[0m\u001b[0m\n",
      "\u001b[0;31mValueError\u001b[0m: shape mismatch: value array of shape (2,3) could not be broadcast to indexing result of shape (3,5)"
     ]
    }
   ],
   "source": [
    "b = np.zeros((M.shape[0], M.shape[1], M.shape[1]))\n",
    "diag = np.arange(M.shape[1])\n",
    "b[:, diag, diag] = np.array([[33, 66, 99], [22, 44, 88]])\n",
    "b"
   ]
  },
  {
   "cell_type": "code",
   "execution_count": 120,
   "metadata": {},
   "outputs": [
    {
     "data": {
      "text/plain": [
       "array([[[1., 0., 0.],\n",
       "        [0., 1., 0.],\n",
       "        [0., 0., 1.]],\n",
       "\n",
       "       [[1., 0., 0.],\n",
       "        [0., 1., 0.],\n",
       "        [0., 0., 1.]],\n",
       "\n",
       "       [[1., 0., 0.],\n",
       "        [0., 1., 0.],\n",
       "        [0., 0., 1.]],\n",
       "\n",
       "       [[1., 0., 0.],\n",
       "        [0., 1., 0.],\n",
       "        [0., 0., 1.]],\n",
       "\n",
       "       [[1., 0., 0.],\n",
       "        [0., 1., 0.],\n",
       "        [0., 0., 1.]]])"
      ]
     },
     "execution_count": 120,
     "metadata": {},
     "output_type": "execute_result"
    }
   ],
   "source": []
  }
 ],
 "metadata": {
  "kernelspec": {
   "display_name": "Python 3",
   "language": "python",
   "name": "python3"
  },
  "language_info": {
   "codemirror_mode": {
    "name": "ipython",
    "version": 3
   },
   "file_extension": ".py",
   "mimetype": "text/x-python",
   "name": "python",
   "nbconvert_exporter": "python",
   "pygments_lexer": "ipython3",
   "version": "3.6.4"
  }
 },
 "nbformat": 4,
 "nbformat_minor": 2
}
